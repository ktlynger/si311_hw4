{
 "cells": [
  {
   "cell_type": "code",
   "execution_count": 135,
   "metadata": {},
   "outputs": [],
   "source": [
    "import requests\n",
    "from bs4 import BeautifulSoup\n",
    "import bs4\n",
    "import time\n",
    "import pandas as pd"
   ]
  },
  {
   "cell_type": "markdown",
   "metadata": {},
   "source": [
    "Objective 1: Scrap the Data to calculate the PF for NYG and SFG"
   ]
  },
  {
   "cell_type": "markdown",
   "metadata": {},
   "source": [
    "The code below finds the year, the total home runs, and total at bats that were taken home and away by the New York Giants from 1951 to 1957."
   ]
  },
  {
   "cell_type": "code",
   "execution_count": 136,
   "metadata": {},
   "outputs": [],
   "source": [
    "# Initialize empty DataFrames to hold the data\n",
    "columns = ['Year', 'HR', 'AB']\n",
    "polo_bat_home = pd.DataFrame(columns=columns)\n",
    "polo_bat_away = pd.DataFrame(columns=columns)\n",
    "\n",
    "year = 1951\n",
    "while year != 1958:\n",
    "    # for each value of year, the code will fetch the corresponding page for Willie Mays\n",
    "    url = requests.get(f\"https://www.baseball-reference.com/teams/split.cgi?t=b&team=NYG&year={year}\")\n",
    "    time.sleep(5)\n",
    "    soup = BeautifulSoup(url.text, 'html.parser')\n",
    "\n",
    "    block = [i for i in soup.find_all(string = lambda text: isinstance(text, bs4.Comment)) if 'id=\"div_hmvis\"' in i][0]\n",
    "\n",
    "    # The selected comment is parsed to find the embedded tables  \n",
    "    new_soup = BeautifulSoup(str(block), 'html.parser')\n",
    "    table = new_soup.find('table').find('tbody')\n",
    "    rows = table.find_all('tr')\n",
    "\n",
    "    # For each row, the cells are found, the values for AB and HR are extracted, home vs away data are accumulated separately\n",
    "    for row in rows:\n",
    "        cols = row.find_all('td')\n",
    "        AB = int(cols[4].text)\n",
    "        HR = int(cols[9].text)\n",
    "        if cols[0].text == \"Home\":\n",
    "            polo_bat_home.loc[len(polo_bat_home.index)] = [year, HR, AB]\n",
    "        elif cols[0].text == \"Away\":\n",
    "            polo_bat_away.loc[len(polo_bat_away.index)] = [year, HR, AB]\n",
    "    year += 1"
   ]
  },
  {
   "cell_type": "markdown",
   "metadata": {},
   "source": [
    "The code below finds the year, total home runs, and total at bats for the SFG play at home vs away from 1951 to 1957."
   ]
  },
  {
   "cell_type": "code",
   "execution_count": 137,
   "metadata": {},
   "outputs": [],
   "source": [
    "# Initialize empty DataFrames to hold the data\n",
    "columns = ['Year', 'HR', 'AB']\n",
    "candlestick_bat_home = pd.DataFrame(columns=columns)\n",
    "candlestick_bat_away = pd.DataFrame(columns=columns)\n",
    "\n",
    "year = 1960\n",
    "while year != 1971:\n",
    "    # for each value of year, the code will fetch the corresponding page for Willie Mays\n",
    "    url = requests.get(f\"https://www.baseball-reference.com/teams/split.cgi?team=SFG&t=b&year={year}\")\n",
    "    time.sleep(5)\n",
    "    soup = BeautifulSoup(url.text, 'html.parser')\n",
    "\n",
    "    block = [i for i in soup.find_all(string = lambda text: isinstance(text, bs4.Comment)) if 'id=\"div_hmvis\"' in i][0]\n",
    "\n",
    "    # The selected comment is parsed to find the embedded tables  \n",
    "    new_soup = BeautifulSoup(str(block), 'html.parser')\n",
    "    table = new_soup.find('table').find('tbody')\n",
    "    rows = table.find_all('tr')\n",
    "\n",
    "    # For each row, the cells are found, the values for AB and HR are extracted, home vs away data are accumulated separately\n",
    "    for row in rows:\n",
    "        cols = row.find_all('td')\n",
    "        AB = int(cols[4].text)\n",
    "        HR = int(cols[9].text)\n",
    "        if cols[0].text == \"Home\":\n",
    "            candlestick_bat_home.loc[len(candlestick_bat_home.index)] = [year, HR, AB]\n",
    "        elif cols[0].text == \"Away\":\n",
    "            candlestick_bat_away.loc[len(candlestick_bat_away.index)] = [year, HR, AB]\n",
    "    year += 1"
   ]
  },
  {
   "cell_type": "markdown",
   "metadata": {},
   "source": [
    "Objective 2: Determine PF for Candlestick (1960-71) and Polo Grounds (1951-57)"
   ]
  },
  {
   "cell_type": "code",
   "execution_count": 138,
   "metadata": {},
   "outputs": [
    {
     "data": {
      "text/plain": [
       "np.float64(1.1077558928923663)"
      ]
     },
     "execution_count": 138,
     "metadata": {},
     "output_type": "execute_result"
    }
   ],
   "source": [
    "candlestick_home_ratio = (candlestick_bat_home['HR'].sum()/candlestick_bat_home['AB'].sum())\n",
    "candlestick_away_ratio = (candlestick_bat_away['HR'].sum()/candlestick_bat_away['AB'].sum())\n",
    "candlestick_pf = candlestick_home_ratio/candlestick_away_ratio\n",
    "candlestick_pf"
   ]
  },
  {
   "cell_type": "code",
   "execution_count": 139,
   "metadata": {},
   "outputs": [
    {
     "data": {
      "text/plain": [
       "np.float64(1.8151915506166918)"
      ]
     },
     "execution_count": 139,
     "metadata": {},
     "output_type": "execute_result"
    }
   ],
   "source": [
    "polo_home_ratio = (polo_bat_home['HR'].sum()/polo_bat_home['AB'].sum())\n",
    "polo_away_ratio = (polo_bat_away['HR'].sum()/polo_bat_away['AB'].sum())\n",
    "polo_pf = polo_home_ratio/polo_away_ratio\n",
    "polo_pf"
   ]
  },
  {
   "cell_type": "markdown",
   "metadata": {},
   "source": [
    "Objective 3: Scrap for Willie Mays Data"
   ]
  },
  {
   "cell_type": "code",
   "execution_count": 140,
   "metadata": {},
   "outputs": [
    {
     "data": {
      "text/html": [
       "<div>\n",
       "<style scoped>\n",
       "    .dataframe tbody tr th:only-of-type {\n",
       "        vertical-align: middle;\n",
       "    }\n",
       "\n",
       "    .dataframe tbody tr th {\n",
       "        vertical-align: top;\n",
       "    }\n",
       "\n",
       "    .dataframe thead th {\n",
       "        text-align: right;\n",
       "    }\n",
       "</style>\n",
       "<table border=\"1\" class=\"dataframe\">\n",
       "  <thead>\n",
       "    <tr style=\"text-align: right;\">\n",
       "      <th></th>\n",
       "      <th>Year</th>\n",
       "      <th>Team</th>\n",
       "      <th>HR</th>\n",
       "      <th>AB</th>\n",
       "    </tr>\n",
       "  </thead>\n",
       "  <tbody>\n",
       "    <tr>\n",
       "      <th>2</th>\n",
       "      <td>1951</td>\n",
       "      <td>NYG</td>\n",
       "      <td>20</td>\n",
       "      <td>464</td>\n",
       "    </tr>\n",
       "    <tr>\n",
       "      <th>3</th>\n",
       "      <td>1954</td>\n",
       "      <td>NYG</td>\n",
       "      <td>41</td>\n",
       "      <td>565</td>\n",
       "    </tr>\n",
       "    <tr>\n",
       "      <th>4</th>\n",
       "      <td>1955</td>\n",
       "      <td>NYG</td>\n",
       "      <td>51</td>\n",
       "      <td>580</td>\n",
       "    </tr>\n",
       "    <tr>\n",
       "      <th>5</th>\n",
       "      <td>1956</td>\n",
       "      <td>NYG</td>\n",
       "      <td>36</td>\n",
       "      <td>578</td>\n",
       "    </tr>\n",
       "    <tr>\n",
       "      <th>6</th>\n",
       "      <td>1957</td>\n",
       "      <td>NYG</td>\n",
       "      <td>35</td>\n",
       "      <td>585</td>\n",
       "    </tr>\n",
       "    <tr>\n",
       "      <th>7</th>\n",
       "      <td>1960</td>\n",
       "      <td>SFG</td>\n",
       "      <td>29</td>\n",
       "      <td>595</td>\n",
       "    </tr>\n",
       "    <tr>\n",
       "      <th>8</th>\n",
       "      <td>1961</td>\n",
       "      <td>SFG</td>\n",
       "      <td>40</td>\n",
       "      <td>572</td>\n",
       "    </tr>\n",
       "    <tr>\n",
       "      <th>9</th>\n",
       "      <td>1962</td>\n",
       "      <td>SFG</td>\n",
       "      <td>49</td>\n",
       "      <td>621</td>\n",
       "    </tr>\n",
       "    <tr>\n",
       "      <th>10</th>\n",
       "      <td>1963</td>\n",
       "      <td>SFG</td>\n",
       "      <td>38</td>\n",
       "      <td>596</td>\n",
       "    </tr>\n",
       "    <tr>\n",
       "      <th>11</th>\n",
       "      <td>1964</td>\n",
       "      <td>SFG</td>\n",
       "      <td>47</td>\n",
       "      <td>578</td>\n",
       "    </tr>\n",
       "    <tr>\n",
       "      <th>12</th>\n",
       "      <td>1965</td>\n",
       "      <td>SFG</td>\n",
       "      <td>52</td>\n",
       "      <td>558</td>\n",
       "    </tr>\n",
       "    <tr>\n",
       "      <th>13</th>\n",
       "      <td>1966</td>\n",
       "      <td>SFG</td>\n",
       "      <td>37</td>\n",
       "      <td>552</td>\n",
       "    </tr>\n",
       "    <tr>\n",
       "      <th>14</th>\n",
       "      <td>1967</td>\n",
       "      <td>SFG</td>\n",
       "      <td>22</td>\n",
       "      <td>486</td>\n",
       "    </tr>\n",
       "    <tr>\n",
       "      <th>15</th>\n",
       "      <td>1968</td>\n",
       "      <td>SFG</td>\n",
       "      <td>23</td>\n",
       "      <td>498</td>\n",
       "    </tr>\n",
       "    <tr>\n",
       "      <th>16</th>\n",
       "      <td>1969</td>\n",
       "      <td>SFG</td>\n",
       "      <td>13</td>\n",
       "      <td>403</td>\n",
       "    </tr>\n",
       "    <tr>\n",
       "      <th>17</th>\n",
       "      <td>1970</td>\n",
       "      <td>SFG</td>\n",
       "      <td>28</td>\n",
       "      <td>478</td>\n",
       "    </tr>\n",
       "    <tr>\n",
       "      <th>18</th>\n",
       "      <td>1971</td>\n",
       "      <td>SFG</td>\n",
       "      <td>18</td>\n",
       "      <td>417</td>\n",
       "    </tr>\n",
       "  </tbody>\n",
       "</table>\n",
       "</div>"
      ],
      "text/plain": [
       "    Year Team  HR   AB\n",
       "2   1951  NYG  20  464\n",
       "3   1954  NYG  41  565\n",
       "4   1955  NYG  51  580\n",
       "5   1956  NYG  36  578\n",
       "6   1957  NYG  35  585\n",
       "7   1960  SFG  29  595\n",
       "8   1961  SFG  40  572\n",
       "9   1962  SFG  49  621\n",
       "10  1963  SFG  38  596\n",
       "11  1964  SFG  47  578\n",
       "12  1965  SFG  52  558\n",
       "13  1966  SFG  37  552\n",
       "14  1967  SFG  22  486\n",
       "15  1968  SFG  23  498\n",
       "16  1969  SFG  13  403\n",
       "17  1970  SFG  28  478\n",
       "18  1971  SFG  18  417"
      ]
     },
     "execution_count": 140,
     "metadata": {},
     "output_type": "execute_result"
    }
   ],
   "source": [
    "columns = ['Year', 'Team', 'HR', 'AB']\n",
    "mays_batting_stats = pd.DataFrame(columns=columns)\n",
    "\n",
    "url = 'https://www.baseball-reference.com/players/m/mayswi01.shtml'\n",
    "time.sleep(5)\n",
    "r = requests.get(url)\n",
    "soup = BeautifulSoup(r.content, 'html.parser')\n",
    "table = soup.find('table').find('tbody')\n",
    "rows = table.find_all('tr')\n",
    "\n",
    "for row in rows: \n",
    "    cols = row.find_all('td')\n",
    "    year = row.find('th').text\n",
    "    if year not in ['1948', '1950', '1952', '1953', '1972', '1973', '1958', '1959']:\n",
    "        team = cols[1].text\n",
    "        hr = cols[10].text\n",
    "        ab = cols[5].text\n",
    "        mays_batting_stats.loc[len(mays_batting_stats.index)] = [year, team, hr, ab]\n",
    "\n",
    "# drop the rows that are empty or from minor leagues\n",
    "mays_batting_stats = mays_batting_stats[(mays_batting_stats['Team']=='NYG')|(mays_batting_stats['Team']=='SFG')]\n",
    "mays_batting_stats"
   ]
  },
  {
   "cell_type": "markdown",
   "metadata": {},
   "source": [
    "Objective 4: Find total HRs for Mays if he played in Candlestick during 1951 to 1957."
   ]
  },
  {
   "cell_type": "code",
   "execution_count": 141,
   "metadata": {},
   "outputs": [
    {
     "data": {
      "text/plain": [
       "np.float64(1.407595775308346)"
      ]
     },
     "execution_count": 141,
     "metadata": {},
     "output_type": "execute_result"
    }
   ],
   "source": [
    "# find adjustment factor for Park Grounds\n",
    "pg_adjustment_factor = (1+polo_pf)/2\n",
    "pg_adjustment_factor"
   ]
  },
  {
   "cell_type": "code",
   "execution_count": 142,
   "metadata": {},
   "outputs": [
    {
     "data": {
      "text/plain": [
       "np.float64(1.0538779464461832)"
      ]
     },
     "execution_count": 142,
     "metadata": {},
     "output_type": "execute_result"
    }
   ],
   "source": [
    "# find the adjustment factor for Candlestick Park\n",
    "candlestick_adjustment_factor = (1+candlestick_pf)/2\n",
    "candlestick_adjustment_factor"
   ]
  },
  {
   "cell_type": "code",
   "execution_count": 143,
   "metadata": {},
   "outputs": [],
   "source": [
    "# Write function to adjust the number of home runs Mays hits in Park Grounds to the amount he would have hit in Candlestick\n",
    "def adjust_pg_to_candlestick(row):\n",
    "    if row['Team'] == 'NYG':\n",
    "        adj_hr = int(row['HR'])/pg_adjustment_factor\n",
    "        return adj_hr/candlestick_adjustment_factor\n",
    "    else:\n",
    "        return int(row['HR'])"
   ]
  },
  {
   "cell_type": "code",
   "execution_count": 144,
   "metadata": {},
   "outputs": [
    {
     "data": {
      "text/html": [
       "<div>\n",
       "<style scoped>\n",
       "    .dataframe tbody tr th:only-of-type {\n",
       "        vertical-align: middle;\n",
       "    }\n",
       "\n",
       "    .dataframe tbody tr th {\n",
       "        vertical-align: top;\n",
       "    }\n",
       "\n",
       "    .dataframe thead th {\n",
       "        text-align: right;\n",
       "    }\n",
       "</style>\n",
       "<table border=\"1\" class=\"dataframe\">\n",
       "  <thead>\n",
       "    <tr style=\"text-align: right;\">\n",
       "      <th></th>\n",
       "      <th>Year</th>\n",
       "      <th>Team</th>\n",
       "      <th>HR</th>\n",
       "      <th>AB</th>\n",
       "      <th>Candlestick Adj HRs</th>\n",
       "    </tr>\n",
       "  </thead>\n",
       "  <tbody>\n",
       "    <tr>\n",
       "      <th>2</th>\n",
       "      <td>1951</td>\n",
       "      <td>NYG</td>\n",
       "      <td>20</td>\n",
       "      <td>464</td>\n",
       "      <td>13.482230</td>\n",
       "    </tr>\n",
       "    <tr>\n",
       "      <th>3</th>\n",
       "      <td>1954</td>\n",
       "      <td>NYG</td>\n",
       "      <td>41</td>\n",
       "      <td>565</td>\n",
       "      <td>27.638571</td>\n",
       "    </tr>\n",
       "    <tr>\n",
       "      <th>4</th>\n",
       "      <td>1955</td>\n",
       "      <td>NYG</td>\n",
       "      <td>51</td>\n",
       "      <td>580</td>\n",
       "      <td>34.379686</td>\n",
       "    </tr>\n",
       "    <tr>\n",
       "      <th>5</th>\n",
       "      <td>1956</td>\n",
       "      <td>NYG</td>\n",
       "      <td>36</td>\n",
       "      <td>578</td>\n",
       "      <td>24.268014</td>\n",
       "    </tr>\n",
       "    <tr>\n",
       "      <th>6</th>\n",
       "      <td>1957</td>\n",
       "      <td>NYG</td>\n",
       "      <td>35</td>\n",
       "      <td>585</td>\n",
       "      <td>23.593902</td>\n",
       "    </tr>\n",
       "    <tr>\n",
       "      <th>7</th>\n",
       "      <td>1960</td>\n",
       "      <td>SFG</td>\n",
       "      <td>29</td>\n",
       "      <td>595</td>\n",
       "      <td>29.000000</td>\n",
       "    </tr>\n",
       "    <tr>\n",
       "      <th>8</th>\n",
       "      <td>1961</td>\n",
       "      <td>SFG</td>\n",
       "      <td>40</td>\n",
       "      <td>572</td>\n",
       "      <td>40.000000</td>\n",
       "    </tr>\n",
       "    <tr>\n",
       "      <th>9</th>\n",
       "      <td>1962</td>\n",
       "      <td>SFG</td>\n",
       "      <td>49</td>\n",
       "      <td>621</td>\n",
       "      <td>49.000000</td>\n",
       "    </tr>\n",
       "    <tr>\n",
       "      <th>10</th>\n",
       "      <td>1963</td>\n",
       "      <td>SFG</td>\n",
       "      <td>38</td>\n",
       "      <td>596</td>\n",
       "      <td>38.000000</td>\n",
       "    </tr>\n",
       "    <tr>\n",
       "      <th>11</th>\n",
       "      <td>1964</td>\n",
       "      <td>SFG</td>\n",
       "      <td>47</td>\n",
       "      <td>578</td>\n",
       "      <td>47.000000</td>\n",
       "    </tr>\n",
       "    <tr>\n",
       "      <th>12</th>\n",
       "      <td>1965</td>\n",
       "      <td>SFG</td>\n",
       "      <td>52</td>\n",
       "      <td>558</td>\n",
       "      <td>52.000000</td>\n",
       "    </tr>\n",
       "    <tr>\n",
       "      <th>13</th>\n",
       "      <td>1966</td>\n",
       "      <td>SFG</td>\n",
       "      <td>37</td>\n",
       "      <td>552</td>\n",
       "      <td>37.000000</td>\n",
       "    </tr>\n",
       "    <tr>\n",
       "      <th>14</th>\n",
       "      <td>1967</td>\n",
       "      <td>SFG</td>\n",
       "      <td>22</td>\n",
       "      <td>486</td>\n",
       "      <td>22.000000</td>\n",
       "    </tr>\n",
       "    <tr>\n",
       "      <th>15</th>\n",
       "      <td>1968</td>\n",
       "      <td>SFG</td>\n",
       "      <td>23</td>\n",
       "      <td>498</td>\n",
       "      <td>23.000000</td>\n",
       "    </tr>\n",
       "    <tr>\n",
       "      <th>16</th>\n",
       "      <td>1969</td>\n",
       "      <td>SFG</td>\n",
       "      <td>13</td>\n",
       "      <td>403</td>\n",
       "      <td>13.000000</td>\n",
       "    </tr>\n",
       "    <tr>\n",
       "      <th>17</th>\n",
       "      <td>1970</td>\n",
       "      <td>SFG</td>\n",
       "      <td>28</td>\n",
       "      <td>478</td>\n",
       "      <td>28.000000</td>\n",
       "    </tr>\n",
       "    <tr>\n",
       "      <th>18</th>\n",
       "      <td>1971</td>\n",
       "      <td>SFG</td>\n",
       "      <td>18</td>\n",
       "      <td>417</td>\n",
       "      <td>18.000000</td>\n",
       "    </tr>\n",
       "  </tbody>\n",
       "</table>\n",
       "</div>"
      ],
      "text/plain": [
       "    Year Team  HR   AB  Candlestick Adj HRs\n",
       "2   1951  NYG  20  464            13.482230\n",
       "3   1954  NYG  41  565            27.638571\n",
       "4   1955  NYG  51  580            34.379686\n",
       "5   1956  NYG  36  578            24.268014\n",
       "6   1957  NYG  35  585            23.593902\n",
       "7   1960  SFG  29  595            29.000000\n",
       "8   1961  SFG  40  572            40.000000\n",
       "9   1962  SFG  49  621            49.000000\n",
       "10  1963  SFG  38  596            38.000000\n",
       "11  1964  SFG  47  578            47.000000\n",
       "12  1965  SFG  52  558            52.000000\n",
       "13  1966  SFG  37  552            37.000000\n",
       "14  1967  SFG  22  486            22.000000\n",
       "15  1968  SFG  23  498            23.000000\n",
       "16  1969  SFG  13  403            13.000000\n",
       "17  1970  SFG  28  478            28.000000\n",
       "18  1971  SFG  18  417            18.000000"
      ]
     },
     "execution_count": 144,
     "metadata": {},
     "output_type": "execute_result"
    }
   ],
   "source": [
    "# find the Candlestick Adjusted Hrs and update the dataframe to include these\n",
    "mays_batting_stats['Candlestick Adj HRs'] = mays_batting_stats.apply(adjust_pg_to_candlestick, axis=1)\n",
    "mays_batting_stats"
   ]
  },
  {
   "cell_type": "code",
   "execution_count": 145,
   "metadata": {},
   "outputs": [
    {
     "data": {
      "text/plain": [
       "np.float64(519.3624024385942)"
      ]
     },
     "execution_count": 145,
     "metadata": {},
     "output_type": "execute_result"
    }
   ],
   "source": [
    "total_candlestick_hrs = mays_batting_stats['Candlestick Adj HRs'].sum()\n",
    "total_candlestick_hrs"
   ]
  },
  {
   "cell_type": "markdown",
   "metadata": {},
   "source": [
    "Conclusion: Mays would have hit about 487 home runs if he played in Candlestick from 1951-1957 in his career."
   ]
  },
  {
   "cell_type": "markdown",
   "metadata": {},
   "source": [
    "Objective 5: Find Park Adjusted Home Runs for all stadiums for analysis"
   ]
  },
  {
   "cell_type": "code",
   "execution_count": 147,
   "metadata": {},
   "outputs": [
    {
     "data": {
      "text/plain": [
       "np.float64(505.7640028684866)"
      ]
     },
     "execution_count": 147,
     "metadata": {},
     "output_type": "execute_result"
    }
   ],
   "source": [
    "def find_adj_hrs(row):\n",
    "    if row['Team']=='NYG':\n",
    "        return int(row['HR'])/pg_adjustment_factor\n",
    "    elif row['Team']=='SFG':\n",
    "        return int(row['HR'])/candlestick_adjustment_factor\n",
    "    \n",
    "mays_batting_stats['Adj HRs'] = mays_batting_stats.apply(find_adj_hrs, axis=1)\n",
    "total_adj_hrs = mays_batting_stats['Adj HRs'].sum()\n",
    "total_adj_hrs"
   ]
  },
  {
   "cell_type": "markdown",
   "metadata": {},
   "source": []
  }
 ],
 "metadata": {
  "kernelspec": {
   "display_name": "Python 3",
   "language": "python",
   "name": "python3"
  },
  "language_info": {
   "codemirror_mode": {
    "name": "ipython",
    "version": 3
   },
   "file_extension": ".py",
   "mimetype": "text/x-python",
   "name": "python",
   "nbconvert_exporter": "python",
   "pygments_lexer": "ipython3",
   "version": "3.12.1"
  }
 },
 "nbformat": 4,
 "nbformat_minor": 2
}
